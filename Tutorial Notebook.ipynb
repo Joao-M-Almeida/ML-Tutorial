{
 "cells": [
  {
   "cell_type": "markdown",
   "metadata": {},
   "source": [
    "## Machine Learning with Python and Scikit Learn\n",
    "\n",
    "Follow presentation on: http://bit.ly/ML-SpringCampus\n",
    "\n",
    "\n",
    "Notes for me:\n",
    "- Remove always show toolbar before starting\n",
    "- Set zoom to 150%"
   ]
  },
  {
   "cell_type": "markdown",
   "metadata": {},
   "source": [
    "## What is Machine Learning?\n",
    "\n",
    "The art of teaching computers to learn from data. Why is it an art? \n",
    "\n",
    "Computers learn from examples and experience instead of following hard coded rules.\n",
    "\n",
    "\n",
    "\n"
   ]
  },
  {
   "cell_type": "markdown",
   "metadata": {},
   "source": [
    "## Let's look at some code:"
   ]
  },
  {
   "cell_type": "code",
   "execution_count": null,
   "metadata": {
    "collapsed": true
   },
   "outputs": [],
   "source": [
    "import numpy as np\n",
    "import pandas as pd\n",
    "\n",
    "import matplotlib.pyplot as plt\n",
    "\n",
    "from sklearn.decomposition import PCA\n"
   ]
  },
  {
   "cell_type": "code",
   "execution_count": null,
   "metadata": {
    "collapsed": true
   },
   "outputs": [],
   "source": [
    "# TODO: Scikit Learn really simple example on toy dataset"
   ]
  },
  {
   "cell_type": "markdown",
   "metadata": {},
   "source": [
    "## Supervised vs Unsupervised Learning\n",
    "\n",
    "## Supervised:\n",
    "\n",
    "#### Classification vs Regression\n",
    "\n",
    "Imagine you a program to help you trade stocks and make money from it. There are two possible ways of facing this problem, you can make a problem to predict the price of the stock each day or you can make a program that just tells you wehter you shoul __buy__, __sell__ or __do nothing__ each day.\n",
    "\n",
    "\n",
    "\n"
   ]
  },
  {
   "cell_type": "markdown",
   "metadata": {},
   "source": [
    "# Now to a real world example! \n",
    " \n",
    "# Scotch!\n",
    "![Scotch whiskies](https://c1.staticflickr.com/7/6184/6105844311_dc4c31b8b7_b.jpg)\n",
    "[Source: Damien Pollet](https://flic.kr/p/aiy3MM)"
   ]
  },
  {
   "cell_type": "markdown",
   "metadata": {},
   "source": [
    "# First look at the data"
   ]
  },
  {
   "cell_type": "code",
   "execution_count": null,
   "metadata": {
    "collapsed": true
   },
   "outputs": [],
   "source": []
  },
  {
   "cell_type": "code",
   "execution_count": null,
   "metadata": {
    "collapsed": false
   },
   "outputs": [],
   "source": [
    "whisky_dataframe = pd.read_csv(filepath_or_buffer=\"whiskies.csv\", header=0, sep=',', index_col=1)\n",
    "whisky_dataframe.head()"
   ]
  },
  {
   "cell_type": "code",
   "execution_count": null,
   "metadata": {
    "collapsed": false
   },
   "outputs": [],
   "source": [
    "whisky_dataframe.describe()"
   ]
  },
  {
   "cell_type": "code",
   "execution_count": null,
   "metadata": {
    "collapsed": false
   },
   "outputs": [],
   "source": [
    "#whisky_dataframe.drop(['RowID', 'Postcode', 'Latitude', 'Longitude'], inplace=True, axis=1)\n",
    "whisky_dataframe.head()"
   ]
  },
  {
   "cell_type": "code",
   "execution_count": null,
   "metadata": {
    "collapsed": false
   },
   "outputs": [],
   "source": [
    "whisky_dataframe.columns"
   ]
  },
  {
   "cell_type": "code",
   "execution_count": null,
   "metadata": {
    "collapsed": false
   },
   "outputs": [],
   "source": [
    "whisky_dataframe.drop(['RowID', 'Postcode', ' Latitude', ' Longitude'], inplace=True, axis=1)\n",
    "whisky_dataframe.head()"
   ]
  },
  {
   "cell_type": "code",
   "execution_count": null,
   "metadata": {
    "collapsed": false
   },
   "outputs": [],
   "source": [
    "\n",
    "whisky_dataframe.plot.hist(y='Smoky', \n",
    "                           by=whisky_dataframe.columns, \n",
    "                           figsize=( 5, 5),\n",
    "                           xticks = [0,1,2,3,4],\n",
    "                           bins=range(0,5))\n",
    "whisky_dataframe.plot.hist(y='Honey', \n",
    "                           by=whisky_dataframe.columns, \n",
    "                           figsize=( 5, 5),\n",
    "                           xticks = [0,1,2,3,4],\n",
    "                           bins=range(0,5))\n",
    "whisky_dataframe.plot.hist(y='Nutty', \n",
    "                           by=whisky_dataframe.columns, \n",
    "                           figsize=( 5, 5),\n",
    "                           xticks = [0,1,2,3,4],\n",
    "                           bins=range(0,5))\n",
    "plt.show()\n"
   ]
  },
  {
   "cell_type": "code",
   "execution_count": null,
   "metadata": {
    "collapsed": false,
    "scrolled": true
   },
   "outputs": [],
   "source": [
    "whisky_data = whisky_dataframe.values\n",
    "whisky_data"
   ]
  },
  {
   "cell_type": "code",
   "execution_count": null,
   "metadata": {
    "collapsed": false
   },
   "outputs": [],
   "source": [
    "whisky_dataframe.columns"
   ]
  },
  {
   "cell_type": "code",
   "execution_count": null,
   "metadata": {
    "collapsed": false
   },
   "outputs": [],
   "source": [
    "fig = plt.figure(figsize=(10,10))\n",
    "ax1 = fig.add_subplot(2,2,1)\n",
    "ax2 = fig.add_subplot(2,2,2)\n",
    "ax3 = fig.add_subplot(2,2,3)\n",
    "ax4 = fig.add_subplot(2,2,4)\n",
    "\n",
    "\n",
    "ax1.scatter(x = whisky_data[:,0], y=whisky_data[:,1], alpha=0.1, s=500)\n",
    "ax1.set_xticks([0, 1, 2, 3, 4])\n",
    "ax1.set_yticks([0, 1, 2, 3, 4])\n",
    "ax1.set_xlabel('Body')\n",
    "ax1.set_ylabel('Sweetness')\n",
    "\n",
    "\n",
    "ax2.scatter(x = whisky_data[:,0], y=whisky_data[:,2], alpha=0.1, s=500)\n",
    "ax2.set_xticks([0, 1, 2, 3, 4])\n",
    "ax2.set_yticks([0, 1, 2, 3, 4])\n",
    "ax2.set_xlabel('Body')\n",
    "ax2.set_ylabel('Smoky')\n",
    "\n",
    "ax3.scatter(x = whisky_data[:,0], y=whisky_data[:,3], alpha=0.1, s=500)\n",
    "ax3.set_xticks([0, 1, 2, 3, 4])\n",
    "ax3.set_yticks([0, 1, 2, 3, 4])\n",
    "ax3.set_xlabel('Body')\n",
    "ax3.set_ylabel('Medicinal')\n",
    "\n",
    "\n",
    "ax4.scatter(x = whisky_data[:,0], y=whisky_data[:,4], alpha=0.1, s=500)\n",
    "ax4.set_xticks([0, 1, 2, 3, 4])\n",
    "ax4.set_yticks([0, 1, 2, 3, 4])\n",
    "ax4.set_xlabel('Body')\n",
    "ax4.set_ylabel('Tobacco')\n",
    "\n",
    "plt.show()"
   ]
  },
  {
   "cell_type": "markdown",
   "metadata": {},
   "source": [
    "## Overfitting\n",
    "### The more data you have the better? Not always:\n",
    "\n",
    "__ The curse of dimentionality__\n",
    "\n",
    "__ Model Complexity__\n",
    "\n",
    "#### Feature selection and extraction"
   ]
  },
  {
   "cell_type": "markdown",
   "metadata": {},
   "source": [
    "## PCA\n",
    "\n",
    "TODO: Explain PCA with a toy dataset and some plots"
   ]
  },
  {
   "cell_type": "code",
   "execution_count": null,
   "metadata": {
    "collapsed": true
   },
   "outputs": [],
   "source": []
  },
  {
   "cell_type": "markdown",
   "metadata": {},
   "source": [
    "## Back to Scotch!\n",
    "\n",
    "Let's apply what we learned to our dataset"
   ]
  },
  {
   "cell_type": "code",
   "execution_count": null,
   "metadata": {
    "collapsed": false
   },
   "outputs": [],
   "source": [
    "pca = PCA(n_components=2, whiten=True)\n",
    "pca.fit(whisky_data)\n",
    "transformed_data = pca.fit_transform(whisky_data)"
   ]
  },
  {
   "cell_type": "code",
   "execution_count": null,
   "metadata": {
    "collapsed": false
   },
   "outputs": [],
   "source": [
    "print(\"% of variance explained by each component: 1st {:0.1f}% 2nd {:0.1f}%\".format(\n",
    "        pca.explained_variance_ratio_[0]*100, pca.explained_variance_ratio_[1]*100))\n"
   ]
  },
  {
   "cell_type": "code",
   "execution_count": null,
   "metadata": {
    "collapsed": false
   },
   "outputs": [],
   "source": [
    "fig = plt.figure(figsize=(8,6))\n",
    "plt.scatter(x = transformed_data[:,0], y=transformed_data[:,1])\n",
    "\n",
    "plt.xlabel('Component 0')\n",
    "plt.ylabel('Component 1')\n",
    "\n",
    "plt.show()"
   ]
  },
  {
   "cell_type": "markdown",
   "metadata": {},
   "source": [
    " ## Unsupervised Learning\n",
    " \n",
    " ### Clustering: K -means\n",
    " \n",
    " TODO: Explain with toy data set, add video / GIF?"
   ]
  },
  {
   "cell_type": "code",
   "execution_count": null,
   "metadata": {
    "collapsed": true
   },
   "outputs": [],
   "source": []
  },
  {
   "cell_type": "markdown",
   "metadata": {},
   "source": [
    "#### Clustering Scotch:"
   ]
  },
  {
   "cell_type": "code",
   "execution_count": null,
   "metadata": {
    "collapsed": true
   },
   "outputs": [],
   "source": []
  },
  {
   "cell_type": "markdown",
   "metadata": {},
   "source": [
    "### Now let's make some predictions: (Tobacco ?)"
   ]
  },
  {
   "cell_type": "code",
   "execution_count": null,
   "metadata": {
    "collapsed": true
   },
   "outputs": [],
   "source": []
  },
  {
   "cell_type": "markdown",
   "metadata": {},
   "source": [
    "### How evaluate our models? \n",
    "#### Cross Validation\n"
   ]
  },
  {
   "cell_type": "code",
   "execution_count": null,
   "metadata": {
    "collapsed": true
   },
   "outputs": [],
   "source": []
  },
  {
   "cell_type": "code",
   "execution_count": null,
   "metadata": {
    "collapsed": true
   },
   "outputs": [],
   "source": []
  },
  {
   "cell_type": "markdown",
   "metadata": {},
   "source": [
    "### There is so much more\n",
    "\n",
    "This can not even be considered scraping the surface. Go ahead and experiment it's a very interesting field, and there are tons of information and places to learn from!"
   ]
  },
  {
   "cell_type": "code",
   "execution_count": null,
   "metadata": {
    "collapsed": false
   },
   "outputs": [],
   "source": [
    "whisky_data = pd.read_csv(filepath_or_buffer=\"Meta-Critic Whisky Database – Selfbuilts Whisky Analysis.csv\")\n",
    "whisky_data.describe()\n",
    "whisky_data.head()\n"
   ]
  },
  {
   "cell_type": "code",
   "execution_count": null,
   "metadata": {
    "collapsed": true
   },
   "outputs": [],
   "source": []
  }
 ],
 "metadata": {
  "kernelspec": {
   "display_name": "MLTutorial",
   "language": "python",
   "name": "mltutorial"
  },
  "language_info": {
   "codemirror_mode": {
    "name": "ipython",
    "version": 3
   },
   "file_extension": ".py",
   "mimetype": "text/x-python",
   "name": "python",
   "nbconvert_exporter": "python",
   "pygments_lexer": "ipython3",
   "version": "3.5.2"
  }
 },
 "nbformat": 4,
 "nbformat_minor": 0
}
